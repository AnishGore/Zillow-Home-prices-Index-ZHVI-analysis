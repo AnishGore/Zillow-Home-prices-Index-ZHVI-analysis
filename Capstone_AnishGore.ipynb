{
 "cells": [
  {
   "cell_type": "code",
   "execution_count": 7,
   "metadata": {
    "scrolled": true
   },
   "outputs": [
    {
     "name": "stdout",
     "output_type": "stream",
     "text": [
      "Requirement already up-to-date: pip in /home/nbuser/anaconda3_501/lib/python3.6/site-packages (10.0.1)\n",
      "\u001b[31mgrpcio 1.11.0 has requirement protobuf>=3.5.0.post1, but you'll have protobuf 3.4.1 which is incompatible.\u001b[0m\n",
      "Requirement already up-to-date: pandasql in /home/nbuser/anaconda3_501/lib/python3.6/site-packages (0.7.3)\n",
      "Requirement not upgraded as not directly required: numpy in /home/nbuser/anaconda3_501/lib/python3.6/site-packages (from pandasql) (1.14.3)\n",
      "Requirement not upgraded as not directly required: pandas in /home/nbuser/anaconda3_501/lib/python3.6/site-packages (from pandasql) (0.20.3)\n",
      "Requirement not upgraded as not directly required: sqlalchemy in /home/nbuser/anaconda3_501/lib/python3.6/site-packages (from pandasql) (1.1.13)\n",
      "Requirement not upgraded as not directly required: python-dateutil>=2 in /home/nbuser/anaconda3_501/lib/python3.6/site-packages (from pandas->pandasql) (2.6.1)\n",
      "Requirement not upgraded as not directly required: pytz>=2011k in /home/nbuser/anaconda3_501/lib/python3.6/site-packages (from pandas->pandasql) (2017.2)\n",
      "Requirement not upgraded as not directly required: six>=1.5 in /home/nbuser/anaconda3_501/lib/python3.6/site-packages (from python-dateutil>=2->pandas->pandasql) (1.11.0)\n",
      "\u001b[31mgrpcio 1.11.0 has requirement protobuf>=3.5.0.post1, but you'll have protobuf 3.4.1 which is incompatible.\u001b[0m\n"
     ]
    }
   ],
   "source": [
    "# Uploading the required Libraries : pip, pandasql, pysqldf for incorporating sql commands in python.\n",
    "# pandas and numpy for their data analysis abilities. \n",
    "# seaborn and matplotlib for their abilites of data visualization.\n",
    "\n",
    "! python -m pip install --upgrade pip\n",
    "! pip install -U pandasql\n",
    "from pandasql import sqldf\n",
    "import pandas as pd\n",
    "import numpy as np\n",
    "import seaborn as sns\n",
    "import matplotlib as plt\n",
    "from ggplot import *\n",
    "from scipy import stats, integrate\n",
    "def pysqldf(q):\n",
    "    return sqldf(q, globals())\n",
    "%matplotlib inline"
   ]
  },
  {
   "cell_type": "markdown",
   "metadata": {},
   "source": [
    "# DATA-SET DESCRIPTION."
   ]
  },
  {
   "cell_type": "markdown",
   "metadata": {},
   "source": [
    "#### The dataset is provided by data research wing of Zillow.com known as Zillow Research. It \n",
    "#### contains rows describing the median home values across United State .\n",
    "#### The key indicator of the median home values is provided by ZHVI – Zillow Home Value Index, which is a smoothed, seasonally adjusted measure of the median estimated home value across a given region. \n",
    "#### The ZHVI is based of sales process for the same set of housed in each time period.\n",
    "#### The data set has observations detailing the ZHVI and percent changes in the ZHVI on a month on month, quarter on quarter and on a year on year basis. It describes the percent changes in ZHVI from the ZHVI calculated 5 and 10 years earlier. The dataset maintains a record of the peak ZHVI and the peak month; peak Quarter of achieving that ZHVI. Lastly it also provides information about the percent fall of the current ZHVI from the peak ZHVI and the last date on which the current ZHVI was achieved."
   ]
  },
  {
   "cell_type": "code",
   "execution_count": 8,
   "metadata": {
    "scrolled": true
   },
   "outputs": [
    {
     "data": {
      "text/html": [
       "<div>\n",
       "<style>\n",
       "    .dataframe thead tr:only-child th {\n",
       "        text-align: right;\n",
       "    }\n",
       "\n",
       "    .dataframe thead th {\n",
       "        text-align: left;\n",
       "    }\n",
       "\n",
       "    .dataframe tbody tr th {\n",
       "        vertical-align: top;\n",
       "    }\n",
       "</style>\n",
       "<table border=\"1\" class=\"dataframe\">\n",
       "  <thead>\n",
       "    <tr style=\"text-align: right;\">\n",
       "      <th></th>\n",
       "      <th>Date</th>\n",
       "      <th>RegionName</th>\n",
       "      <th>State</th>\n",
       "      <th>SizeRank</th>\n",
       "      <th>Zhvi</th>\n",
       "      <th>MoM</th>\n",
       "      <th>QoQ</th>\n",
       "      <th>YoY</th>\n",
       "      <th>5Year</th>\n",
       "      <th>10Year</th>\n",
       "      <th>PeakMonth</th>\n",
       "      <th>PeakQuarter</th>\n",
       "      <th>PeakZHVI</th>\n",
       "      <th>PctFallFromPeak</th>\n",
       "      <th>LastTimeAtCurrZHVI</th>\n",
       "    </tr>\n",
       "  </thead>\n",
       "  <tbody>\n",
       "    <tr>\n",
       "      <th>5</th>\n",
       "      <td>2014-11-30</td>\n",
       "      <td>Philadelphia, PA</td>\n",
       "      <td>PA</td>\n",
       "      <td>5</td>\n",
       "      <td>203600</td>\n",
       "      <td>0.002462</td>\n",
       "      <td>0.008420</td>\n",
       "      <td>0.050026</td>\n",
       "      <td>-0.009079</td>\n",
       "      <td>0.005153</td>\n",
       "      <td>2007-05</td>\n",
       "      <td>2007-Q2</td>\n",
       "      <td>231700</td>\n",
       "      <td>-0.121278</td>\n",
       "      <td>2005-04</td>\n",
       "    </tr>\n",
       "    <tr>\n",
       "      <th>1</th>\n",
       "      <td>2014-11-30</td>\n",
       "      <td>New York, NY</td>\n",
       "      <td>NY</td>\n",
       "      <td>1</td>\n",
       "      <td>382900</td>\n",
       "      <td>0.002618</td>\n",
       "      <td>0.009225</td>\n",
       "      <td>0.049041</td>\n",
       "      <td>0.003270</td>\n",
       "      <td>-0.001425</td>\n",
       "      <td>2006-08</td>\n",
       "      <td>2006-Q3</td>\n",
       "      <td>451300</td>\n",
       "      <td>-0.151562</td>\n",
       "      <td>2004-10</td>\n",
       "    </tr>\n",
       "    <tr>\n",
       "      <th>9</th>\n",
       "      <td>2014-11-30</td>\n",
       "      <td>Atlanta, GA</td>\n",
       "      <td>GA</td>\n",
       "      <td>9</td>\n",
       "      <td>154000</td>\n",
       "      <td>0.006536</td>\n",
       "      <td>0.024617</td>\n",
       "      <td>0.128205</td>\n",
       "      <td>0.013941</td>\n",
       "      <td>-0.005419</td>\n",
       "      <td>2006-12</td>\n",
       "      <td>2006-Q4</td>\n",
       "      <td>174800</td>\n",
       "      <td>-0.118993</td>\n",
       "      <td>2002-12</td>\n",
       "    </tr>\n",
       "    <tr>\n",
       "      <th>0</th>\n",
       "      <td>2014-11-30</td>\n",
       "      <td>United States</td>\n",
       "      <td>None</td>\n",
       "      <td>0</td>\n",
       "      <td>177600</td>\n",
       "      <td>0.003390</td>\n",
       "      <td>0.011966</td>\n",
       "      <td>0.060299</td>\n",
       "      <td>0.011296</td>\n",
       "      <td>0.004916</td>\n",
       "      <td>2007-04</td>\n",
       "      <td>2007-Q2</td>\n",
       "      <td>196400</td>\n",
       "      <td>-0.095723</td>\n",
       "      <td>2005-05</td>\n",
       "    </tr>\n",
       "    <tr>\n",
       "      <th>2</th>\n",
       "      <td>2014-11-30</td>\n",
       "      <td>Los Angeles, CA</td>\n",
       "      <td>CA</td>\n",
       "      <td>2</td>\n",
       "      <td>532200</td>\n",
       "      <td>0.005099</td>\n",
       "      <td>0.013714</td>\n",
       "      <td>0.064613</td>\n",
       "      <td>0.042215</td>\n",
       "      <td>0.004902</td>\n",
       "      <td>2006-07</td>\n",
       "      <td>2006-Q3</td>\n",
       "      <td>614200</td>\n",
       "      <td>-0.133507</td>\n",
       "      <td>2005-04</td>\n",
       "    </tr>\n",
       "    <tr>\n",
       "      <th>6</th>\n",
       "      <td>2014-11-30</td>\n",
       "      <td>Houston, TX</td>\n",
       "      <td>TX</td>\n",
       "      <td>6</td>\n",
       "      <td>151800</td>\n",
       "      <td>0.004633</td>\n",
       "      <td>0.012000</td>\n",
       "      <td>0.119469</td>\n",
       "      <td>0.005627</td>\n",
       "      <td>0.016408</td>\n",
       "      <td>2014-11</td>\n",
       "      <td>2014-Q4</td>\n",
       "      <td>151800</td>\n",
       "      <td>0.000000</td>\n",
       "      <td>2014-11</td>\n",
       "    </tr>\n",
       "    <tr>\n",
       "      <th>7</th>\n",
       "      <td>2014-11-30</td>\n",
       "      <td>Washington, DC</td>\n",
       "      <td>DC</td>\n",
       "      <td>7</td>\n",
       "      <td>361500</td>\n",
       "      <td>0.001663</td>\n",
       "      <td>0.005563</td>\n",
       "      <td>0.045704</td>\n",
       "      <td>0.028116</td>\n",
       "      <td>0.000973</td>\n",
       "      <td>2006-03</td>\n",
       "      <td>2006-Q1</td>\n",
       "      <td>431600</td>\n",
       "      <td>-0.162419</td>\n",
       "      <td>2004-12</td>\n",
       "    </tr>\n",
       "    <tr>\n",
       "      <th>4</th>\n",
       "      <td>2014-11-30</td>\n",
       "      <td>Dallas-Fort Worth, TX</td>\n",
       "      <td>TX</td>\n",
       "      <td>4</td>\n",
       "      <td>150900</td>\n",
       "      <td>0.008016</td>\n",
       "      <td>0.020284</td>\n",
       "      <td>0.073257</td>\n",
       "      <td>0.026039</td>\n",
       "      <td>0.008684</td>\n",
       "      <td>2014-11</td>\n",
       "      <td>2014-Q4</td>\n",
       "      <td>150900</td>\n",
       "      <td>0.000000</td>\n",
       "      <td>2014-11</td>\n",
       "    </tr>\n",
       "    <tr>\n",
       "      <th>3</th>\n",
       "      <td>2014-11-30</td>\n",
       "      <td>Chicago, IL</td>\n",
       "      <td>IL</td>\n",
       "      <td>3</td>\n",
       "      <td>188800</td>\n",
       "      <td>0.003188</td>\n",
       "      <td>0.012876</td>\n",
       "      <td>0.058296</td>\n",
       "      <td>-0.016138</td>\n",
       "      <td>-0.016863</td>\n",
       "      <td>2007-03</td>\n",
       "      <td>2007-Q1</td>\n",
       "      <td>244500</td>\n",
       "      <td>-0.227812</td>\n",
       "      <td>2002-08</td>\n",
       "    </tr>\n",
       "    <tr>\n",
       "      <th>8</th>\n",
       "      <td>2014-11-30</td>\n",
       "      <td>Miami-Fort Lauderdale, FL</td>\n",
       "      <td>FL</td>\n",
       "      <td>8</td>\n",
       "      <td>208000</td>\n",
       "      <td>0.007752</td>\n",
       "      <td>0.024631</td>\n",
       "      <td>0.135991</td>\n",
       "      <td>0.052039</td>\n",
       "      <td>-0.008790</td>\n",
       "      <td>2006-06</td>\n",
       "      <td>2006-Q2</td>\n",
       "      <td>312300</td>\n",
       "      <td>-0.333974</td>\n",
       "      <td>2004-08</td>\n",
       "    </tr>\n",
       "  </tbody>\n",
       "</table>\n",
       "</div>"
      ],
      "text/plain": [
       "         Date                 RegionName State  SizeRank    Zhvi       MoM  \\\n",
       "5  2014-11-30           Philadelphia, PA    PA         5  203600  0.002462   \n",
       "1  2014-11-30               New York, NY    NY         1  382900  0.002618   \n",
       "9  2014-11-30                Atlanta, GA    GA         9  154000  0.006536   \n",
       "0  2014-11-30              United States  None         0  177600  0.003390   \n",
       "2  2014-11-30            Los Angeles, CA    CA         2  532200  0.005099   \n",
       "6  2014-11-30                Houston, TX    TX         6  151800  0.004633   \n",
       "7  2014-11-30             Washington, DC    DC         7  361500  0.001663   \n",
       "4  2014-11-30      Dallas-Fort Worth, TX    TX         4  150900  0.008016   \n",
       "3  2014-11-30                Chicago, IL    IL         3  188800  0.003188   \n",
       "8  2014-11-30  Miami-Fort Lauderdale, FL    FL         8  208000  0.007752   \n",
       "\n",
       "        QoQ       YoY     5Year    10Year PeakMonth PeakQuarter  PeakZHVI  \\\n",
       "5  0.008420  0.050026 -0.009079  0.005153   2007-05     2007-Q2    231700   \n",
       "1  0.009225  0.049041  0.003270 -0.001425   2006-08     2006-Q3    451300   \n",
       "9  0.024617  0.128205  0.013941 -0.005419   2006-12     2006-Q4    174800   \n",
       "0  0.011966  0.060299  0.011296  0.004916   2007-04     2007-Q2    196400   \n",
       "2  0.013714  0.064613  0.042215  0.004902   2006-07     2006-Q3    614200   \n",
       "6  0.012000  0.119469  0.005627  0.016408   2014-11     2014-Q4    151800   \n",
       "7  0.005563  0.045704  0.028116  0.000973   2006-03     2006-Q1    431600   \n",
       "4  0.020284  0.073257  0.026039  0.008684   2014-11     2014-Q4    150900   \n",
       "3  0.012876  0.058296 -0.016138 -0.016863   2007-03     2007-Q1    244500   \n",
       "8  0.024631  0.135991  0.052039 -0.008790   2006-06     2006-Q2    312300   \n",
       "\n",
       "   PctFallFromPeak LastTimeAtCurrZHVI  \n",
       "5        -0.121278            2005-04  \n",
       "1        -0.151562            2004-10  \n",
       "9        -0.118993            2002-12  \n",
       "0        -0.095723            2005-05  \n",
       "2        -0.133507            2005-04  \n",
       "6         0.000000            2014-11  \n",
       "7        -0.162419            2004-12  \n",
       "4         0.000000            2014-11  \n",
       "3        -0.227812            2002-08  \n",
       "8        -0.333974            2004-08  "
      ]
     },
     "execution_count": 8,
     "metadata": {},
     "output_type": "execute_result"
    }
   ],
   "source": [
    "# Fetching the data-set of Property prices in various States in United states from Zillow.\n",
    "\n",
    "zillow = pd.read_csv(\"https://raw.githubusercontent.com/chrismetcalf/zillow-data/master/data/Metro/Metro_Zhvi_Summary_AllHomes.csv\")\n",
    "#zillow1 = pd.read_csv(\"https://raw.githubusercontent.com/chrismetcalf/zillow-data/master/data/Metro/Metro_Zhvi_Summary_AllHomes.csv\").set_index('RegionName')\n",
    "\n",
    "# sqldf is the library imported for using SQL commands in Python for the purpose of data manipualtion, and re-arrangement.\n",
    "\n",
    "data = pysqldf(\"SELECT * FROM zillow LIMIT 10;\")\n",
    "\n",
    "# randon 10 samples are fetched to see the constituents of dataset.\n",
    "\n",
    "data.sample(10)\n"
   ]
  },
  {
   "cell_type": "markdown",
   "metadata": {},
   "source": [
    "# DATA-CLEANSING"
   ]
  },
  {
   "cell_type": "markdown",
   "metadata": {},
   "source": [
    "#### The mean and median of MOM, QOQ, YOY, X5Year, X10Year and PctFalFromPeak fields are almost similar. The data for these fields have a symmetrical distribution. While the mean and median for ZHVI and PeakZHVI are farther apart from each other.\n",
    "#### The null or empty values are identified since the total number of rows consisting of null values account lesser than 10% of the dataset, these values(rows) are elimnated for purpose of having a clean dataset.\n",
    "#### A few columns are changed for easier analysis."
   ]
  },
  {
   "cell_type": "code",
   "execution_count": 9,
   "metadata": {},
   "outputs": [
    {
     "name": "stdout",
     "output_type": "stream",
     "text": [
      "Date                   0\n",
      "RegionName             0\n",
      "State                  1\n",
      "SizeRank               0\n",
      "Zhvi                   0\n",
      "MoM                    0\n",
      "QoQ                    0\n",
      "YoY                    0\n",
      "5Year                  8\n",
      "10Year                37\n",
      "PeakMonth              0\n",
      "PeakQuarter            0\n",
      "PeakZHVI               0\n",
      "PctFallFromPeak        0\n",
      "LastTimeAtCurrZHVI    25\n",
      "dtype: int64\n",
      "Index(['Date', 'RegionName', 'State', 'SizeRank', 'Zhvi', 'MoM', 'QoQ', 'YoY',\n",
      "       'FiveYear', 'TenYear', 'PeakM', 'PeakQ', 'PeakZHVI', 'PctFallFromPeak',\n",
      "       'LastTimeAtCurrZHVI'],\n",
      "      dtype='object')\n"
     ]
    }
   ],
   "source": [
    "# **Data Cleaning : identifying the null values and replacing them with the appropriate values**\n",
    "\n",
    "#Count of Null values present in the dataset.\n",
    "print(zillow.isnull().sum())\n",
    "\n",
    "# checking th column names , and renaming them for easy analysis.\n",
    "zillow.rename(columns = {'5Year':'FiveYear', '10Year':'TenYear', 'PeakMonth':'PeakM', 'PeakQuarter':'PeakQ'}, inplace=True)\n",
    "print(zillow.columns)\n"
   ]
  },
  {
   "cell_type": "code",
   "execution_count": 10,
   "metadata": {},
   "outputs": [
    {
     "name": "stdout",
     "output_type": "stream",
     "text": [
      "(485, 15)\n",
      "Date                  0\n",
      "RegionName            0\n",
      "State                 0\n",
      "SizeRank              0\n",
      "Zhvi                  0\n",
      "MoM                   0\n",
      "QoQ                   0\n",
      "YoY                   0\n",
      "FiveYear              0\n",
      "TenYear               0\n",
      "PeakM                 0\n",
      "PeakQ                 0\n",
      "PeakZHVI              0\n",
      "PctFallFromPeak       0\n",
      "LastTimeAtCurrZHVI    6\n",
      "dtype: int64\n"
     ]
    }
   ],
   "source": [
    "# Eliminating the rows with Null values.\n",
    "zillow.dropna(subset = ['TenYear', 'FiveYear', 'State'], how='any', inplace=True)\n",
    "print(zillow.shape)\n",
    "print(zillow.isnull().sum())"
   ]
  },
  {
   "cell_type": "markdown",
   "metadata": {},
   "source": [
    "#### The dataset was cleaned and analyzed to gather meaningful insights. \n",
    "#### SQLlike commands using library sqldf is used for data munging and data wrangling, ‘gglot’,is primarily used to create visualizations along with matplotlib and Seaborn."
   ]
  },
  {
   "cell_type": "markdown",
   "metadata": {},
   "source": [
    "#### The process of analyzing data sets, summarizing their main characteristics and present them visually is known  as Exploratory Data Analysis. EDA might contain a statistical model, but it primary purpose is to uncover trends and patterns beyond the formal modelling and hypothesis testing tasks. We have carried out an Exploratory Data Analysis for our Zillow Home Value Index dataset."
   ]
  },
  {
   "cell_type": "markdown",
   "metadata": {},
   "source": [
    "## Average ZHVI Growth over 5 Years – Dot Plot and Bar Plot  "
   ]
  },
  {
   "cell_type": "markdown",
   "metadata": {},
   "source": [
    "#### A dot plot is statistical representation of data points having multiple values in a variable with each point being independent of the other. "
   ]
  },
  {
   "cell_type": "markdown",
   "metadata": {},
   "source": [
    "#### The States are plotted on the X-axis and the average 5 year growth percentage of the cities and states are plotted on the Y axis. #### The dot plot shows the top 10 cities and states with the highest growth rate over the last 5 years. \n",
    "#### An important factor to consider here is that the average growth rate is being taken which may drastically vary depending on the development of the cities and statesindependently. But when compared to a 10 year growth analysis these are gradual growths in the home values.\n",
    "#### Cities have gradually grown in recent times. One possible explanation might be that a city might have a fairly lower index value 5 years ago and due to the recent developments the index grew very high increasing the average index value of the city.\n",
    "#### For the overall growth within span of 5years in consideration, North Dakota is growing at fair amount due to above mentioned reasons, despite the higher Zhvi score being of Hawaii, for the obvious reasons of presence of Tourism.\n",
    "#### Same facts are also clearly visible by pairplot visualization."
   ]
  },
  {
   "cell_type": "code",
   "execution_count": 11,
   "metadata": {},
   "outputs": [
    {
     "name": "stdout",
     "output_type": "stream",
     "text": [
      "                  w   x         y    Zhvi\n",
      "0      Bismarck, ND  ND  0.056405  255400\n",
      "1         Kapaa, HI  HI  0.032928  489800\n",
      "2       Shawnee, OK  OK  0.032668   87200\n",
      "3  Grand Island, NE  NE  0.031493  134700\n",
      "4    Susanville, CA  CA  0.031310  117800\n",
      "5    Washington, DC  DC  0.028116  361500\n",
      "6        Juneau, AK  AK  0.022103  315800\n",
      "7    Big Rapids, MI  MI  0.021543   96100\n",
      "8        Fallon, NV  NV  0.021251  143400\n",
      "9      Sterling, CO  CO  0.018082  108500\n"
     ]
    }
   ],
   "source": [
    "# Visualizing the trends of last five years growth for the various cities.\n",
    "\n",
    "determine1 = pysqldf(\"SELECT RegionName AS w, State AS x, AVG(FiveYear) as y, Zhvi FROM zillow GROUP BY State ORDER BY avg(FiveYear) DESC LIMIT 10 ;\")\n",
    "print(determine1)"
   ]
  },
  {
   "cell_type": "code",
   "execution_count": 12,
   "metadata": {},
   "outputs": [
    {
     "ename": "AttributeError",
     "evalue": "module 'matplotlib' has no attribute 'show'",
     "output_type": "error",
     "traceback": [
      "\u001b[0;31m---------------------------------------------------------------------------\u001b[0m",
      "\u001b[0;31mAttributeError\u001b[0m                            Traceback (most recent call last)",
      "\u001b[0;32m<ipython-input-12-52e385628e05>\u001b[0m in \u001b[0;36m<module>\u001b[0;34m()\u001b[0m\n\u001b[1;32m      1\u001b[0m \u001b[0;31m# Bar graph visualization of Zhvi score.\u001b[0m\u001b[0;34m\u001b[0m\u001b[0;34m\u001b[0m\u001b[0m\n\u001b[1;32m      2\u001b[0m \u001b[0mdetermine1\u001b[0m\u001b[0;34m.\u001b[0m\u001b[0mplot\u001b[0m\u001b[0;34m(\u001b[0m\u001b[0mkind\u001b[0m\u001b[0;34m=\u001b[0m\u001b[0;34m'bar'\u001b[0m\u001b[0;34m)\u001b[0m\u001b[0;34m\u001b[0m\u001b[0m\n\u001b[0;32m----> 3\u001b[0;31m \u001b[0mplt\u001b[0m\u001b[0;34m.\u001b[0m\u001b[0mshow\u001b[0m\u001b[0;34m(\u001b[0m\u001b[0;34m)\u001b[0m\u001b[0;34m\u001b[0m\u001b[0m\n\u001b[0m",
      "\u001b[0;31mAttributeError\u001b[0m: module 'matplotlib' has no attribute 'show'"
     ]
    },
    {
     "data": {
      "image/png": "[encoded data removed]",
      "text/plain": [
       "<matplotlib.figure.Figure at 0x7ff2f031c8d0>"
      ]
     },
     "metadata": {},
     "output_type": "display_data"
    }
   ],
   "source": [
    "# Bar graph visualization of variations in Zhvi score.\n",
    "determine1.plot(kind='bar')\n",
    "plt.show()"
   ]
  },
  {
   "cell_type": "code",
   "execution_count": 13,
   "metadata": {},
   "outputs": [
    {
     "data": {
      "text/plain": [
       "<seaborn.axisgrid.PairGrid at 0x7ff2f03332e8>"
      ]
     },
     "execution_count": 13,
     "metadata": {},
     "output_type": "execute_result"
    },
    {
     "data": {
      "image/png": "[encoded data removed]",
      "text/plain": [
       "<matplotlib.figure.Figure at 0x7ff2f0333518>"
      ]
     },
     "metadata": {},
     "output_type": "display_data"
    }
   ],
   "source": [
    "%matplotlib inline\n",
    "sns.pairplot(determine1)"
   ]
  },
  {
   "cell_type": "code",
   "execution_count": 14,
   "metadata": {},
   "outputs": [
    {
     "name": "stderr",
     "output_type": "stream",
     "text": [
      "/home/nbuser/anaconda3_501/lib/python3.6/site-packages/ggplot/utils.py:81: FutureWarning: pandas.tslib is deprecated and will be removed in a future version.\n",
      "You can access Timestamp as pandas.Timestamp\n",
      "  pd.tslib.Timestamp,\n",
      "/home/nbuser/anaconda3_501/lib/python3.6/site-packages/ggplot/stats/smoothers.py:4: FutureWarning: The pandas.lib module is deprecated and will be removed in a future version. These are private functions and can be accessed from pandas._libs.lib instead\n",
      "  from pandas.lib import Timestamp\n",
      "/home/nbuser/anaconda3_501/lib/python3.6/site-packages/statsmodels/compat/pandas.py:56: FutureWarning: The pandas.core.datetools module is deprecated and will be removed in a future version. Please use the pandas.tseries module instead.\n",
      "  from pandas.core import datetools\n"
     ]
    },
    {
     "data": {
      "image/png": "[encoded data removed]",
      "text/plain": [
       "<matplotlib.figure.Figure at 0x7ff2eefae828>"
      ]
     },
     "metadata": {},
     "output_type": "display_data"
    },
    {
     "data": {
      "text/plain": [
       "<ggplot: (-9223363244267981859)>"
      ]
     },
     "execution_count": 14,
     "metadata": {},
     "output_type": "execute_result"
    }
   ],
   "source": [
    "from ggplot import *\n",
    "ggplot(determine1, aes(x='w', y='y*100')) +\\\n",
    "    geom_point()"
   ]
  },
  {
   "cell_type": "markdown",
   "metadata": {},
   "source": [
    "#### The States are plotted on the X-axis and the average 10 year growth percentage of the cities and states are plotted on the Y axis. The dot plot shows the top 10 cities and states with the highest growth rate over the last 10 years.\n",
    "#### The observation here can be made is that in the last ten years these cities have grown drastically. While at the state level there are other states that have grown drastically over last ten years because the states now have a very high ZHVI as compared to ten years ago. \n",
    "#### North Dakota has been an upcoming state in the last ten years followed by Oklahoma.  Other states like Kentucky, Utah and Iowa have grown due to the Professional Services, trade and food production industries respectively.\n",
    "#### Despite the growth trend in last ten years show a different picture, the overall Zhvi rating ranks Alaska as the top followed by North Dakota and Utah. These trends are also visible through the pairplot as well. "
   ]
  },
  {
   "cell_type": "code",
   "execution_count": 15,
   "metadata": {},
   "outputs": [
    {
     "name": "stdout",
     "output_type": "stream",
     "text": [
      "                   w   x         z    Zhvi\n",
      "0       Bismarck, ND  ND  0.042924  255400\n",
      "1        Shawnee, OK  OK  0.032577   87200\n",
      "2    Great Falls, MT  MT  0.025946  151700\n",
      "3     Burlington, IA  IA  0.024570   96400\n",
      "4         Juneau, AK  AK  0.024462  315800\n",
      "5         Casper, WY  WY  0.024006  180900\n",
      "6  Mountain Home, AR  AR  0.022697  107400\n",
      "7   Grand Island, NE  NE  0.021244  134700\n",
      "8     St. George, UT  UT  0.020861  205400\n",
      "9         Oxford, MS  MS  0.020713  169900\n"
     ]
    }
   ],
   "source": [
    "# Visualizing the trends of last Ten years growth for the various cities.\n",
    "determine2 = pysqldf(\"SELECT RegionName AS w, State AS x, AVG(TenYear) as z, Zhvi FROM zillow GROUP BY State ORDER BY avg(TenYear) DESC LIMIT 10 ;\")\n",
    "print(determine2)"
   ]
  },
  {
   "cell_type": "code",
   "execution_count": 16,
   "metadata": {},
   "outputs": [
    {
     "ename": "AttributeError",
     "evalue": "module 'matplotlib' has no attribute 'show'",
     "output_type": "error",
     "traceback": [
      "\u001b[0;31m---------------------------------------------------------------------------\u001b[0m",
      "\u001b[0;31mAttributeError\u001b[0m                            Traceback (most recent call last)",
      "\u001b[0;32m<ipython-input-16-4d52617664c4>\u001b[0m in \u001b[0;36m<module>\u001b[0;34m()\u001b[0m\n\u001b[1;32m      1\u001b[0m \u001b[0;31m# Bar graph visualization of Zhvi score.\u001b[0m\u001b[0;34m\u001b[0m\u001b[0;34m\u001b[0m\u001b[0m\n\u001b[1;32m      2\u001b[0m \u001b[0mdetermine2\u001b[0m\u001b[0;34m.\u001b[0m\u001b[0mplot\u001b[0m\u001b[0;34m(\u001b[0m\u001b[0mkind\u001b[0m\u001b[0;34m=\u001b[0m\u001b[0;34m'bar'\u001b[0m\u001b[0;34m)\u001b[0m\u001b[0;34m\u001b[0m\u001b[0m\n\u001b[0;32m----> 3\u001b[0;31m \u001b[0mplt\u001b[0m\u001b[0;34m.\u001b[0m\u001b[0mshow\u001b[0m\u001b[0;34m(\u001b[0m\u001b[0;34m)\u001b[0m\u001b[0;34m\u001b[0m\u001b[0m\n\u001b[0m",
      "\u001b[0;31mAttributeError\u001b[0m: module 'matplotlib' has no attribute 'show'"
     ]
    },
    {
     "data": {
      "image/png": "[encoded data removed]",
      "text/plain": [
       "<matplotlib.figure.Figure at 0x7ff2f02b96d8>"
      ]
     },
     "metadata": {},
     "output_type": "display_data"
    }
   ],
   "source": [
    "# Bar graph visualization of Zhvi score.\n",
    "determine2.plot(kind='bar')\n",
    "plt.show()"
   ]
  },
  {
   "cell_type": "code",
   "execution_count": 17,
   "metadata": {},
   "outputs": [
    {
     "data": {
      "text/plain": [
       "<seaborn.axisgrid.PairGrid at 0x7ff2ee7de860>"
      ]
     },
     "execution_count": 17,
     "metadata": {},
     "output_type": "execute_result"
    },
    {
     "data": {
      "image/png": "[encoded data removed]",
      "text/plain": [
       "<matplotlib.figure.Figure at 0x7ff2ee7de198>"
      ]
     },
     "metadata": {},
     "output_type": "display_data"
    }
   ],
   "source": [
    "%matplotlib inline\n",
    "sns.pairplot(determine2)"
   ]
  },
  {
   "cell_type": "code",
   "execution_count": 18,
   "metadata": {
    "scrolled": false
   },
   "outputs": [
    {
     "data": {
      "image/png": "[encoded data removed]",
      "text/plain": [
       "<matplotlib.figure.Figure at 0x7ff2edec8d68>"
      ]
     },
     "metadata": {},
     "output_type": "display_data"
    },
    {
     "data": {
      "text/plain": [
       "<ggplot: (-9223363244270326766)>"
      ]
     },
     "execution_count": 18,
     "metadata": {},
     "output_type": "execute_result"
    }
   ],
   "source": [
    "#from ggplot import *\n",
    "ggplot(determine2, aes(x='w', y='z*100')) +\\\n",
    "    geom_point()"
   ]
  },
  {
   "cell_type": "code",
   "execution_count": 19,
   "metadata": {},
   "outputs": [
    {
     "name": "stdout",
     "output_type": "stream",
     "text": [
      "      PeakM   x  PeakMCount      avg(Zhvi)\n",
      "0   2014-11  TN          82  158791.463415\n",
      "1   2006-04  CA          15  242026.666667\n",
      "2   2006-05  NV          14  238442.857143\n",
      "3   2006-07  NV          14  181564.285714\n",
      "4   2007-05  CO          14  167014.285714\n",
      "5   2006-03  VA          13  187100.000000\n",
      "6   2005-12  NV          12  247425.000000\n",
      "7   2006-02  IN          11  220554.545455\n",
      "8   2006-06  FL          11  171936.363636\n",
      "9   2007-06  AK          11  169754.545455\n",
      "10  2006-08  MD           9  218911.111111\n",
      "11  2006-09  IN           9  172477.777778\n",
      "12  2006-11  FL           9  167833.333333\n",
      "13  2007-03  OH           9  155522.222222\n",
      "14  2009-06  MT           9  166788.888889\n",
      "15  2005-11  IN           8  159787.500000\n",
      "16  2006-10  MD           8  129500.000000\n",
      "17  2007-07  OH           8  175775.000000\n",
      "18  2005-10  IN           7  258942.857143\n",
      "19  2007-10  AR           7  150614.285714\n",
      "20  2008-01  CO           7  185542.857143\n",
      "21  2005-06  IN           6  105150.000000\n",
      "22  2006-01  MD           6  246233.333333\n",
      "23  2006-12  WA           6  175616.666667\n",
      "24  2007-02  NH           6  150150.000000\n",
      "25  2007-09  WA           6  144200.000000\n",
      "26  2007-11  NC           6  165433.333333\n",
      "27  2008-06  NC           6  125833.333333\n",
      "28  2007-01  FL           5  160540.000000\n",
      "29  2007-04  GA           5  121020.000000\n",
      "..      ...  ..         ...            ...\n",
      "63  2013-10  NY           2   81750.000000\n",
      "64  2013-11  NY           2  101650.000000\n",
      "65  2002-03  OH           1   93000.000000\n",
      "66  2002-04  MI           1   96100.000000\n",
      "67  2002-11  CO           1  128800.000000\n",
      "68  2003-11  IN           1  127900.000000\n",
      "69  2004-08  IN           1   78100.000000\n",
      "70  2004-10  IN           1   62800.000000\n",
      "71  2004-11  IN           1   67700.000000\n",
      "72  2004-12  OH           1   98400.000000\n",
      "73  2005-05  MI           1  228600.000000\n",
      "74  2008-08  GA           1   89100.000000\n",
      "75  2008-09  WI           1  124100.000000\n",
      "76  2008-10  NC           1  141900.000000\n",
      "77  2009-01  VA           1  150800.000000\n",
      "78  2009-10  TN           1  126900.000000\n",
      "79  2009-12  NY           1  111000.000000\n",
      "80  2010-03  LA           1  144200.000000\n",
      "81  2010-04  PA           1  128700.000000\n",
      "82  2010-06  NC           1  130300.000000\n",
      "83  2010-07  AL           1  115700.000000\n",
      "84  2011-12  MO           1   93200.000000\n",
      "85  2012-07  IL           1  118500.000000\n",
      "86  2012-09  WI           1  104100.000000\n",
      "87  2012-12  NY           1  130000.000000\n",
      "88  2013-04  NY           1   86300.000000\n",
      "89  2014-01  SC           1   91200.000000\n",
      "90  2014-04  IL           1  126800.000000\n",
      "91  2014-07  OK           1   87200.000000\n",
      "92  2014-08  OH           1  164200.000000\n",
      "\n",
      "[93 rows x 4 columns]\n"
     ]
    }
   ],
   "source": [
    "# Visualizing and Analyzing the trends of Monthly Peak values attained by Zhvi score for the various cities.\n",
    "determine3 = pysqldf(\"SELECT PeakM, State AS x, count(PeakM) as PeakMCount, avg(Zhvi) FROM zillow GROUP BY PeakM ORDER BY count(PeakM) DESC LIMIT 100 ;\")\n",
    "print(determine3.sample(5))"
   ]
  },
  {
   "cell_type": "markdown",
   "metadata": {},
   "source": [
    "#### One key parameter while determining the trend in the housing market are the months that had the highest peak occurrences in the ZHVI index values during the 14 year span. X-Axis represents the count of peaks in the market with the time period on the Y-Axis.\n",
    "#### During the late 2000’s the housing market was at very good condition but with the financial crisis caused due to the mortgage market the index values dropped. The recovery and regrowth was seen by early 2015 and has been on an incline since. Currently, cities like Los Angeles and New York City have their highest peak month of February 2018 along with many other cities contributing to the count to 4481."
   ]
  },
  {
   "cell_type": "code",
   "execution_count": 20,
   "metadata": {},
   "outputs": [
    {
     "data": {
      "image/png": "[encoded data removed]",
      "text/plain": [
       "<matplotlib.figure.Figure at 0x7ff2eee91e10>"
      ]
     },
     "metadata": {},
     "output_type": "display_data"
    },
    {
     "data": {
      "text/plain": [
       "<ggplot: (-9223363244269334044)>"
      ]
     },
     "execution_count": 20,
     "metadata": {},
     "output_type": "execute_result"
    }
   ],
   "source": [
    "ggplot(determine3, aes(x='PeakM', y='PeakMCount')) + \\\n",
    "    geom_point() "
   ]
  },
  {
   "cell_type": "code",
   "execution_count": 21,
   "metadata": {},
   "outputs": [
    {
     "name": "stdout",
     "output_type": "stream",
     "text": [
      "0    None\n",
      "1      NY\n",
      "2      CA\n",
      "3      IL\n",
      "4      TX\n",
      "5      PA\n",
      "6      TX\n",
      "7      DC\n",
      "8      FL\n",
      "9      GA\n",
      "Name: State, dtype: object\n"
     ]
    }
   ],
   "source": [
    "top_states = data.loc[:,'State']\n",
    "print(top_states)"
   ]
  },
  {
   "cell_type": "markdown",
   "metadata": {},
   "source": [
    "#### Correlation Matrix is used to investigate the dependence between multiple variables at the same time. It is a basically a table containing the correlation coefficients between each variable and the others. Correlation is used to evaluate the association between two or more variables.\n",
    "#### The correlation coefficient r measures the strength and direction of linear relationship between two variables. the value is always between +1 and -1."
   ]
  },
  {
   "cell_type": "code",
   "execution_count": 23,
   "metadata": {},
   "outputs": [
    {
     "data": {
      "text/html": [
       "<div>\n",
       "<style>\n",
       "    .dataframe thead tr:only-child th {\n",
       "        text-align: right;\n",
       "    }\n",
       "\n",
       "    .dataframe thead th {\n",
       "        text-align: left;\n",
       "    }\n",
       "\n",
       "    .dataframe tbody tr th {\n",
       "        vertical-align: top;\n",
       "    }\n",
       "</style>\n",
       "<table border=\"1\" class=\"dataframe\">\n",
       "  <thead>\n",
       "    <tr style=\"text-align: right;\">\n",
       "      <th></th>\n",
       "      <th>SizeRank</th>\n",
       "      <th>Zhvi</th>\n",
       "      <th>MoM</th>\n",
       "      <th>QoQ</th>\n",
       "      <th>YoY</th>\n",
       "      <th>FiveYear</th>\n",
       "      <th>TenYear</th>\n",
       "      <th>PeakZHVI</th>\n",
       "      <th>PctFallFromPeak</th>\n",
       "    </tr>\n",
       "  </thead>\n",
       "  <tbody>\n",
       "    <tr>\n",
       "      <th>SizeRank</th>\n",
       "      <td>1.000000</td>\n",
       "      <td>-0.275505</td>\n",
       "      <td>0.000385</td>\n",
       "      <td>0.044773</td>\n",
       "      <td>0.060021</td>\n",
       "      <td>-0.025779</td>\n",
       "      <td>0.076718</td>\n",
       "      <td>-0.257598</td>\n",
       "      <td>0.009916</td>\n",
       "    </tr>\n",
       "    <tr>\n",
       "      <th>Zhvi</th>\n",
       "      <td>-0.275505</td>\n",
       "      <td>1.000000</td>\n",
       "      <td>0.117871</td>\n",
       "      <td>0.112008</td>\n",
       "      <td>0.165251</td>\n",
       "      <td>0.282310</td>\n",
       "      <td>-0.017695</td>\n",
       "      <td>0.957355</td>\n",
       "      <td>-0.118368</td>\n",
       "    </tr>\n",
       "    <tr>\n",
       "      <th>MoM</th>\n",
       "      <td>0.000385</td>\n",
       "      <td>0.117871</td>\n",
       "      <td>1.000000</td>\n",
       "      <td>0.860644</td>\n",
       "      <td>0.510610</td>\n",
       "      <td>0.331027</td>\n",
       "      <td>-0.117020</td>\n",
       "      <td>0.137234</td>\n",
       "      <td>-0.063496</td>\n",
       "    </tr>\n",
       "    <tr>\n",
       "      <th>QoQ</th>\n",
       "      <td>0.044773</td>\n",
       "      <td>0.112008</td>\n",
       "      <td>0.860644</td>\n",
       "      <td>1.000000</td>\n",
       "      <td>0.637954</td>\n",
       "      <td>0.399405</td>\n",
       "      <td>-0.100033</td>\n",
       "      <td>0.136725</td>\n",
       "      <td>-0.061410</td>\n",
       "    </tr>\n",
       "    <tr>\n",
       "      <th>YoY</th>\n",
       "      <td>0.060021</td>\n",
       "      <td>0.165251</td>\n",
       "      <td>0.510610</td>\n",
       "      <td>0.637954</td>\n",
       "      <td>1.000000</td>\n",
       "      <td>0.565466</td>\n",
       "      <td>-0.047027</td>\n",
       "      <td>0.196604</td>\n",
       "      <td>-0.057054</td>\n",
       "    </tr>\n",
       "    <tr>\n",
       "      <th>FiveYear</th>\n",
       "      <td>-0.025779</td>\n",
       "      <td>0.282310</td>\n",
       "      <td>0.331027</td>\n",
       "      <td>0.399405</td>\n",
       "      <td>0.565466</td>\n",
       "      <td>1.000000</td>\n",
       "      <td>0.136829</td>\n",
       "      <td>0.242955</td>\n",
       "      <td>0.207715</td>\n",
       "    </tr>\n",
       "    <tr>\n",
       "      <th>TenYear</th>\n",
       "      <td>0.076718</td>\n",
       "      <td>-0.017695</td>\n",
       "      <td>-0.117020</td>\n",
       "      <td>-0.100033</td>\n",
       "      <td>-0.047027</td>\n",
       "      <td>0.136829</td>\n",
       "      <td>1.000000</td>\n",
       "      <td>-0.209025</td>\n",
       "      <td>0.727571</td>\n",
       "    </tr>\n",
       "    <tr>\n",
       "      <th>PeakZHVI</th>\n",
       "      <td>-0.257598</td>\n",
       "      <td>0.957355</td>\n",
       "      <td>0.137234</td>\n",
       "      <td>0.136725</td>\n",
       "      <td>0.196604</td>\n",
       "      <td>0.242955</td>\n",
       "      <td>-0.209025</td>\n",
       "      <td>1.000000</td>\n",
       "      <td>-0.367869</td>\n",
       "    </tr>\n",
       "    <tr>\n",
       "      <th>PctFallFromPeak</th>\n",
       "      <td>0.009916</td>\n",
       "      <td>-0.118368</td>\n",
       "      <td>-0.063496</td>\n",
       "      <td>-0.061410</td>\n",
       "      <td>-0.057054</td>\n",
       "      <td>0.207715</td>\n",
       "      <td>0.727571</td>\n",
       "      <td>-0.367869</td>\n",
       "      <td>1.000000</td>\n",
       "    </tr>\n",
       "  </tbody>\n",
       "</table>\n",
       "</div>"
      ],
      "text/plain": [
       "                 SizeRank      Zhvi       MoM       QoQ       YoY  FiveYear  \\\n",
       "SizeRank         1.000000 -0.275505  0.000385  0.044773  0.060021 -0.025779   \n",
       "Zhvi            -0.275505  1.000000  0.117871  0.112008  0.165251  0.282310   \n",
       "MoM              0.000385  0.117871  1.000000  0.860644  0.510610  0.331027   \n",
       "QoQ              0.044773  0.112008  0.860644  1.000000  0.637954  0.399405   \n",
       "YoY              0.060021  0.165251  0.510610  0.637954  1.000000  0.565466   \n",
       "FiveYear        -0.025779  0.282310  0.331027  0.399405  0.565466  1.000000   \n",
       "TenYear          0.076718 -0.017695 -0.117020 -0.100033 -0.047027  0.136829   \n",
       "PeakZHVI        -0.257598  0.957355  0.137234  0.136725  0.196604  0.242955   \n",
       "PctFallFromPeak  0.009916 -0.118368 -0.063496 -0.061410 -0.057054  0.207715   \n",
       "\n",
       "                  TenYear  PeakZHVI  PctFallFromPeak  \n",
       "SizeRank         0.076718 -0.257598         0.009916  \n",
       "Zhvi            -0.017695  0.957355        -0.118368  \n",
       "MoM             -0.117020  0.137234        -0.063496  \n",
       "QoQ             -0.100033  0.136725        -0.061410  \n",
       "YoY             -0.047027  0.196604        -0.057054  \n",
       "FiveYear         0.136829  0.242955         0.207715  \n",
       "TenYear          1.000000 -0.209025         0.727571  \n",
       "PeakZHVI        -0.209025  1.000000        -0.367869  \n",
       "PctFallFromPeak  0.727571 -0.367869         1.000000  "
      ]
     },
     "execution_count": 23,
     "metadata": {},
     "output_type": "execute_result"
    }
   ],
   "source": [
    "zillow.corr()"
   ]
  },
  {
   "cell_type": "markdown",
   "metadata": {},
   "source": [
    "#### ZHVI is positively correlated to variables that describe the changes in ZHVI over time including MoM, QoQ, YoY, FiveYear, TenYear. \n",
    "#### These variables are also positively correlated to each other. The strongest correlation is between ZHVI & FiveYear and TenYear.\n",
    "#### The MoM has a very high correlation with QoQ (.86) and similarly QoQ is highly correlated with YoY (.64). The positive growth in MoM and QoQ ZHVI value leads to a  positive growth in QoQ and YoY values. YoY ,FiveYear and TenYear also have a high correlation among themselves.\n",
    "#### The PctFallFromPeak describes the difference in percentage between the current ZHVI value and Peak ZHVI value. The negative value of PctFallFromPeak indicates the decrease in ZHVI value as compared to Peak ZHVI and vice versa. \n",
    "#### The TenYear and PctFallFromPeak are strongly correlated to each other (.72). The increase in growth of ZHVI value over 10 Years leads to the increase in current ZHVI value which in turn leads to a positive percent change in PctFallFromPeak value."
   ]
  },
  {
   "cell_type": "markdown",
   "metadata": {},
   "source": [
    "## Conclusion "
   ]
  },
  {
   "cell_type": "markdown",
   "metadata": {},
   "source": [
    "#### While ZHVI is a nice indicator of United States Real Estate Housing Market. This index is calculated taking into consideration various financial, economic and many other factors. While this is a useful indicator of the trends in the market, this data alone does not paint the correct picture. Additional data including historical housing prices, mortgage, rental, population density, spending habits can be combined with the ZHVI data to generate accurate insights. "
   ]
  }
 ],
 "metadata": {
  "kernelspec": {
   "display_name": "Python 3",
   "language": "python",
   "name": "python3"
  },
  "language_info": {
   "codemirror_mode": {
    "name": "ipython",
    "version": 3
   },
   "file_extension": ".py",
   "mimetype": "text/x-python",
   "name": "python",
   "nbconvert_exporter": "python",
   "pygments_lexer": "ipython3",
   "version": "3.6.4"
  }
 },
 "nbformat": 4,
 "nbformat_minor": 2
}
